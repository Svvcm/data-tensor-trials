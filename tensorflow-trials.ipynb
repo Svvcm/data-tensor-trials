{
 "cells": [
  {
   "cell_type": "markdown",
   "metadata": {},
   "source": [
    "## The Tensorflow Trials"
   ]
  },
  {
   "cell_type": "markdown",
   "metadata": {},
   "source": [
    "For much of the past week, you've been using tensors with your Deep Learning models. Over the course of today's challenges, you'll be manipulating tensors extensively and working with some unconventional model architectures. \n",
    "\n",
    "\n",
    "In this warm up, you'll be introduced to some new methods. \n",
    "\n",
    "All the methods here are going to make tackling challenges later in the day 100x easier, so if you do get stuck later on, make sure you come back here to see how you achieved the right answers. "
   ]
  },
  {
   "cell_type": "code",
   "execution_count": 1,
   "metadata": {},
   "outputs": [
    {
     "name": "stderr",
     "output_type": "stream",
     "text": [
      "2025-04-13 11:39:18.292740: I tensorflow/core/platform/cpu_feature_guard.cc:193] This TensorFlow binary is optimized with oneAPI Deep Neural Network Library (oneDNN) to use the following CPU instructions in performance-critical operations:  AVX2 FMA\n",
      "To enable them in other operations, rebuild TensorFlow with the appropriate compiler flags.\n"
     ]
    }
   ],
   "source": [
    "import tensorflow as tf"
   ]
  },
  {
   "cell_type": "markdown",
   "metadata": {},
   "source": [
    "A) Use `tf.ones` to create a tensor `a` filled with ones of shape (3,3)."
   ]
  },
  {
   "cell_type": "code",
   "execution_count": 16,
   "metadata": {},
   "outputs": [
    {
     "data": {
      "text/plain": [
       "<tf.Tensor: shape=(3, 3), dtype=float32, numpy=\n",
       "array([[1., 1., 1.],\n",
       "       [1., 1., 1.],\n",
       "       [1., 1., 1.]], dtype=float32)>"
      ]
     },
     "execution_count": 16,
     "metadata": {},
     "output_type": "execute_result"
    }
   ],
   "source": [
    "a = tf.ones((3, 3))\n",
    "a"
   ]
  },
  {
   "cell_type": "markdown",
   "metadata": {},
   "source": [
    "B) Use tf.expand_dims to make `a` an object of shape (1,3,3) called `b`."
   ]
  },
  {
   "cell_type": "code",
   "execution_count": 9,
   "metadata": {},
   "outputs": [
    {
     "data": {
      "text/plain": [
       "TensorShape([1, 3, 3])"
      ]
     },
     "execution_count": 9,
     "metadata": {},
     "output_type": "execute_result"
    }
   ],
   "source": [
    "b = tf.expand_dims(a, axis=0)\n",
    "b.shape"
   ]
  },
  {
   "cell_type": "markdown",
   "metadata": {},
   "source": [
    "C) Create a tensor `c` filled with zeroes of size (9,1)"
   ]
  },
  {
   "cell_type": "code",
   "execution_count": 11,
   "metadata": {},
   "outputs": [
    {
     "data": {
      "text/plain": [
       "<tf.Tensor: shape=(9, 1), dtype=float32, numpy=\n",
       "array([[0.],\n",
       "       [0.],\n",
       "       [0.],\n",
       "       [0.],\n",
       "       [0.],\n",
       "       [0.],\n",
       "       [0.],\n",
       "       [0.],\n",
       "       [0.]], dtype=float32)>"
      ]
     },
     "execution_count": 11,
     "metadata": {},
     "output_type": "execute_result"
    }
   ],
   "source": [
    "c = tf.zeros((9, 1))\n",
    "c"
   ]
  },
  {
   "cell_type": "markdown",
   "metadata": {},
   "source": [
    "D) Reshape `c` to be of shape (1, 3, 3). Name it `d`."
   ]
  },
  {
   "cell_type": "code",
   "execution_count": 13,
   "metadata": {},
   "outputs": [
    {
     "data": {
      "text/plain": [
       "<tf.Tensor: shape=(1, 3, 3), dtype=float32, numpy=\n",
       "array([[[0., 0., 0.],\n",
       "        [0., 0., 0.],\n",
       "        [0., 0., 0.]]], dtype=float32)>"
      ]
     },
     "execution_count": 13,
     "metadata": {},
     "output_type": "execute_result"
    }
   ],
   "source": [
    "d = tf.reshape(c, (1, 3, 3))\n",
    "d"
   ]
  },
  {
   "cell_type": "markdown",
   "metadata": {},
   "source": [
    "E) Use `tf.matmul` to matrix multiply `b` and `d` with each other and now assign the tensor to `e`. "
   ]
  },
  {
   "cell_type": "code",
   "execution_count": null,
   "metadata": {},
   "outputs": [
    {
     "data": {
      "text/plain": [
       "<tf.Tensor: shape=(1, 3, 3), dtype=float32, numpy=\n",
       "array([[[0., 0., 0.],\n",
       "        [0., 0., 0.],\n",
       "        [0., 0., 0.]]], dtype=float32)>"
      ]
     },
     "execution_count": 15,
     "metadata": {},
     "output_type": "execute_result"
    }
   ],
   "source": [
    "e = tf.matmul(b, d)\n",
    "e"
   ]
  },
  {
   "cell_type": "markdown",
   "metadata": {},
   "source": [
    "F) Below is a `numpy` array. Convert it to a tensor named `array_tensor`. Then use `tf.cast` to ensure it is of dtype `float` not `int`. Assign the result to `f`."
   ]
  },
  {
   "cell_type": "code",
   "execution_count": 17,
   "metadata": {},
   "outputs": [],
   "source": [
    "import numpy as np"
   ]
  },
  {
   "cell_type": "code",
   "execution_count": 18,
   "metadata": {},
   "outputs": [],
   "source": [
    "array = np.array([[\n",
    "    [1,2,3],\n",
    "    [1,2,3],\n",
    "    [4,5,6],\n",
    "    [7,8,9]\n",
    "]])"
   ]
  },
  {
   "cell_type": "code",
   "execution_count": 28,
   "metadata": {},
   "outputs": [
    {
     "data": {
      "text/plain": [
       "<tf.Tensor: shape=(1, 4, 3), dtype=float32, numpy=\n",
       "array([[[1., 2., 3.],\n",
       "        [1., 2., 3.],\n",
       "        [4., 5., 6.],\n",
       "        [7., 8., 9.]]], dtype=float32)>"
      ]
     },
     "execution_count": 28,
     "metadata": {},
     "output_type": "execute_result"
    }
   ],
   "source": [
    "array_tensor = tf.convert_to_tensor(array)\n",
    "\n",
    "f = tf.cast(array_tensor, dtype=tf.float32)\n",
    "f"
   ]
  },
  {
   "cell_type": "markdown",
   "metadata": {},
   "source": [
    "G) Select the values in the __last column__ of `f` and save this to `g`. To be clear, `g` should have shape (4,) and contain the values `3,3,6,9`. "
   ]
  },
  {
   "cell_type": "code",
   "execution_count": 36,
   "metadata": {},
   "outputs": [
    {
     "data": {
      "text/plain": [
       "<tf.Tensor: shape=(4,), dtype=float32, numpy=array([3., 3., 6., 9.], dtype=float32)>"
      ]
     },
     "execution_count": 36,
     "metadata": {},
     "output_type": "execute_result"
    }
   ],
   "source": [
    "g = f[ 0, :, 2]\n",
    "g"
   ]
  },
  {
   "cell_type": "markdown",
   "metadata": {},
   "source": [
    "H) Expand the dimensions of g so that it's of shape (4,1). Assign this to `h`."
   ]
  },
  {
   "cell_type": "code",
   "execution_count": 41,
   "metadata": {},
   "outputs": [
    {
     "data": {
      "text/plain": [
       "<tf.Tensor: shape=(4, 1), dtype=float32, numpy=\n",
       "array([[3.],\n",
       "       [3.],\n",
       "       [6.],\n",
       "       [9.]], dtype=float32)>"
      ]
     },
     "execution_count": 41,
     "metadata": {},
     "output_type": "execute_result"
    }
   ],
   "source": [
    "h = tf.expand_dims(g, axis=1)\n",
    "h"
   ]
  },
  {
   "cell_type": "markdown",
   "metadata": {},
   "source": [
    "H) Multiply e with f, using `tf.matmul` with the optional `transpose_b` argument (`e` must come first in your positional arguments, then `f`). Assign this to `h`."
   ]
  },
  {
   "cell_type": "code",
   "execution_count": 45,
   "metadata": {},
   "outputs": [
    {
     "data": {
      "text/plain": [
       "<tf.Tensor: shape=(1, 3, 4), dtype=float32, numpy=\n",
       "array([[[0., 0., 0., 0.],\n",
       "        [0., 0., 0., 0.],\n",
       "        [0., 0., 0., 0.]]], dtype=float32)>"
      ]
     },
     "execution_count": 45,
     "metadata": {},
     "output_type": "execute_result"
    }
   ],
   "source": [
    "h = tf.matmul(e, f, transpose_b=True)\n",
    "h"
   ]
  },
  {
   "cell_type": "markdown",
   "metadata": {},
   "source": [
    "I) Create a `(10,10)` tensor filled with ones. Then use `tf.linalg.band_part()` to mask out the upper triangle of the matrix (i.e. the upper triangle should all be 0s). Assign to `i`."
   ]
  },
  {
   "cell_type": "code",
   "execution_count": 50,
   "metadata": {},
   "outputs": [
    {
     "data": {
      "text/plain": [
       "<tf.Tensor: shape=(10, 10), dtype=float32, numpy=\n",
       "array([[1., 0., 0., 0., 0., 0., 0., 0., 0., 0.],\n",
       "       [1., 1., 0., 0., 0., 0., 0., 0., 0., 0.],\n",
       "       [1., 1., 1., 0., 0., 0., 0., 0., 0., 0.],\n",
       "       [1., 1., 1., 1., 0., 0., 0., 0., 0., 0.],\n",
       "       [1., 1., 1., 1., 1., 0., 0., 0., 0., 0.],\n",
       "       [1., 1., 1., 1., 1., 1., 0., 0., 0., 0.],\n",
       "       [1., 1., 1., 1., 1., 1., 1., 0., 0., 0.],\n",
       "       [1., 1., 1., 1., 1., 1., 1., 1., 0., 0.],\n",
       "       [1., 1., 1., 1., 1., 1., 1., 1., 1., 0.],\n",
       "       [1., 1., 1., 1., 1., 1., 1., 1., 1., 1.]], dtype=float32)>"
      ]
     },
     "execution_count": 50,
     "metadata": {},
     "output_type": "execute_result"
    }
   ],
   "source": [
    "ones_10 = tf.ones((10, 10))\n",
    "\n",
    "i = tf.linalg.band_part(ones_10, -1, 0)\n",
    "i\n"
   ]
  },
  {
   "cell_type": "markdown",
   "metadata": {},
   "source": [
    "J) Take the `number_list` below and make it a tensor. Assign it to `j`."
   ]
  },
  {
   "cell_type": "code",
   "execution_count": 51,
   "metadata": {},
   "outputs": [],
   "source": [
    "number_list = [1,2,3,4,8]"
   ]
  },
  {
   "cell_type": "code",
   "execution_count": 54,
   "metadata": {},
   "outputs": [
    {
     "data": {
      "text/plain": [
       "<tf.Tensor: shape=(5,), dtype=float32, numpy=array([1., 2., 3., 4., 8.], dtype=float32)>"
      ]
     },
     "execution_count": 54,
     "metadata": {},
     "output_type": "execute_result"
    }
   ],
   "source": [
    "j = tf.convert_to_tensor(number_list, dtype=tf.float32)\n",
    "j"
   ]
  },
  {
   "cell_type": "markdown",
   "metadata": {},
   "source": [
    "K) Use `tf.expand_dims` to make `j` into a tensor of shape (1,5). Assign to `k`."
   ]
  },
  {
   "cell_type": "code",
   "execution_count": 56,
   "metadata": {},
   "outputs": [
    {
     "data": {
      "text/plain": [
       "<tf.Tensor: shape=(1, 5), dtype=float32, numpy=array([[1., 2., 3., 4., 8.]], dtype=float32)>"
      ]
     },
     "execution_count": 56,
     "metadata": {},
     "output_type": "execute_result"
    }
   ],
   "source": [
    "k = tf.expand_dims(j, axis=0)\n",
    "k"
   ]
  },
  {
   "cell_type": "markdown",
   "metadata": {},
   "source": [
    "L) Use `tf.tile` to repeat `k` 50 times, with an eventual shape of `(50,5)`. Assign to `l`."
   ]
  },
  {
   "cell_type": "code",
   "execution_count": 72,
   "metadata": {},
   "outputs": [
    {
     "data": {
      "text/plain": [
       "<tf.Tensor: shape=(50, 5), dtype=float32, numpy=\n",
       "array([[1., 2., 3., 4., 8.],\n",
       "       [1., 2., 3., 4., 8.],\n",
       "       [1., 2., 3., 4., 8.],\n",
       "       [1., 2., 3., 4., 8.],\n",
       "       [1., 2., 3., 4., 8.],\n",
       "       [1., 2., 3., 4., 8.],\n",
       "       [1., 2., 3., 4., 8.],\n",
       "       [1., 2., 3., 4., 8.],\n",
       "       [1., 2., 3., 4., 8.],\n",
       "       [1., 2., 3., 4., 8.],\n",
       "       [1., 2., 3., 4., 8.],\n",
       "       [1., 2., 3., 4., 8.],\n",
       "       [1., 2., 3., 4., 8.],\n",
       "       [1., 2., 3., 4., 8.],\n",
       "       [1., 2., 3., 4., 8.],\n",
       "       [1., 2., 3., 4., 8.],\n",
       "       [1., 2., 3., 4., 8.],\n",
       "       [1., 2., 3., 4., 8.],\n",
       "       [1., 2., 3., 4., 8.],\n",
       "       [1., 2., 3., 4., 8.],\n",
       "       [1., 2., 3., 4., 8.],\n",
       "       [1., 2., 3., 4., 8.],\n",
       "       [1., 2., 3., 4., 8.],\n",
       "       [1., 2., 3., 4., 8.],\n",
       "       [1., 2., 3., 4., 8.],\n",
       "       [1., 2., 3., 4., 8.],\n",
       "       [1., 2., 3., 4., 8.],\n",
       "       [1., 2., 3., 4., 8.],\n",
       "       [1., 2., 3., 4., 8.],\n",
       "       [1., 2., 3., 4., 8.],\n",
       "       [1., 2., 3., 4., 8.],\n",
       "       [1., 2., 3., 4., 8.],\n",
       "       [1., 2., 3., 4., 8.],\n",
       "       [1., 2., 3., 4., 8.],\n",
       "       [1., 2., 3., 4., 8.],\n",
       "       [1., 2., 3., 4., 8.],\n",
       "       [1., 2., 3., 4., 8.],\n",
       "       [1., 2., 3., 4., 8.],\n",
       "       [1., 2., 3., 4., 8.],\n",
       "       [1., 2., 3., 4., 8.],\n",
       "       [1., 2., 3., 4., 8.],\n",
       "       [1., 2., 3., 4., 8.],\n",
       "       [1., 2., 3., 4., 8.],\n",
       "       [1., 2., 3., 4., 8.],\n",
       "       [1., 2., 3., 4., 8.],\n",
       "       [1., 2., 3., 4., 8.],\n",
       "       [1., 2., 3., 4., 8.],\n",
       "       [1., 2., 3., 4., 8.],\n",
       "       [1., 2., 3., 4., 8.],\n",
       "       [1., 2., 3., 4., 8.]], dtype=float32)>"
      ]
     },
     "execution_count": 72,
     "metadata": {},
     "output_type": "execute_result"
    }
   ],
   "source": [
    "l = tf.tile(k, (50, 1))\n",
    "l"
   ]
  },
  {
   "cell_type": "markdown",
   "metadata": {},
   "source": [
    "M) Use a simple Boolean statement to create a tensor containing `True` values for where `l` is 3  and `False` for where it is not 3. Assign to `m`"
   ]
  },
  {
   "cell_type": "code",
   "execution_count": 73,
   "metadata": {},
   "outputs": [
    {
     "data": {
      "text/plain": [
       "<tf.Tensor: shape=(50, 5), dtype=bool, numpy=\n",
       "array([[False, False,  True, False, False],\n",
       "       [False, False,  True, False, False],\n",
       "       [False, False,  True, False, False],\n",
       "       [False, False,  True, False, False],\n",
       "       [False, False,  True, False, False],\n",
       "       [False, False,  True, False, False],\n",
       "       [False, False,  True, False, False],\n",
       "       [False, False,  True, False, False],\n",
       "       [False, False,  True, False, False],\n",
       "       [False, False,  True, False, False],\n",
       "       [False, False,  True, False, False],\n",
       "       [False, False,  True, False, False],\n",
       "       [False, False,  True, False, False],\n",
       "       [False, False,  True, False, False],\n",
       "       [False, False,  True, False, False],\n",
       "       [False, False,  True, False, False],\n",
       "       [False, False,  True, False, False],\n",
       "       [False, False,  True, False, False],\n",
       "       [False, False,  True, False, False],\n",
       "       [False, False,  True, False, False],\n",
       "       [False, False,  True, False, False],\n",
       "       [False, False,  True, False, False],\n",
       "       [False, False,  True, False, False],\n",
       "       [False, False,  True, False, False],\n",
       "       [False, False,  True, False, False],\n",
       "       [False, False,  True, False, False],\n",
       "       [False, False,  True, False, False],\n",
       "       [False, False,  True, False, False],\n",
       "       [False, False,  True, False, False],\n",
       "       [False, False,  True, False, False],\n",
       "       [False, False,  True, False, False],\n",
       "       [False, False,  True, False, False],\n",
       "       [False, False,  True, False, False],\n",
       "       [False, False,  True, False, False],\n",
       "       [False, False,  True, False, False],\n",
       "       [False, False,  True, False, False],\n",
       "       [False, False,  True, False, False],\n",
       "       [False, False,  True, False, False],\n",
       "       [False, False,  True, False, False],\n",
       "       [False, False,  True, False, False],\n",
       "       [False, False,  True, False, False],\n",
       "       [False, False,  True, False, False],\n",
       "       [False, False,  True, False, False],\n",
       "       [False, False,  True, False, False],\n",
       "       [False, False,  True, False, False],\n",
       "       [False, False,  True, False, False],\n",
       "       [False, False,  True, False, False],\n",
       "       [False, False,  True, False, False],\n",
       "       [False, False,  True, False, False],\n",
       "       [False, False,  True, False, False]])>"
      ]
     },
     "execution_count": 73,
     "metadata": {},
     "output_type": "execute_result"
    }
   ],
   "source": [
    "m = l == 3\n",
    "m"
   ]
  },
  {
   "cell_type": "markdown",
   "metadata": {},
   "source": [
    "N) Divide every value in you variable `l` (read as \"L\") by 3. Assign to `n`."
   ]
  },
  {
   "cell_type": "code",
   "execution_count": 74,
   "metadata": {},
   "outputs": [
    {
     "data": {
      "text/plain": [
       "<tf.Tensor: shape=(50, 5), dtype=float32, numpy=\n",
       "array([[0.33333334, 0.6666667 , 1.        , 1.3333334 , 2.6666667 ],\n",
       "       [0.33333334, 0.6666667 , 1.        , 1.3333334 , 2.6666667 ],\n",
       "       [0.33333334, 0.6666667 , 1.        , 1.3333334 , 2.6666667 ],\n",
       "       [0.33333334, 0.6666667 , 1.        , 1.3333334 , 2.6666667 ],\n",
       "       [0.33333334, 0.6666667 , 1.        , 1.3333334 , 2.6666667 ],\n",
       "       [0.33333334, 0.6666667 , 1.        , 1.3333334 , 2.6666667 ],\n",
       "       [0.33333334, 0.6666667 , 1.        , 1.3333334 , 2.6666667 ],\n",
       "       [0.33333334, 0.6666667 , 1.        , 1.3333334 , 2.6666667 ],\n",
       "       [0.33333334, 0.6666667 , 1.        , 1.3333334 , 2.6666667 ],\n",
       "       [0.33333334, 0.6666667 , 1.        , 1.3333334 , 2.6666667 ],\n",
       "       [0.33333334, 0.6666667 , 1.        , 1.3333334 , 2.6666667 ],\n",
       "       [0.33333334, 0.6666667 , 1.        , 1.3333334 , 2.6666667 ],\n",
       "       [0.33333334, 0.6666667 , 1.        , 1.3333334 , 2.6666667 ],\n",
       "       [0.33333334, 0.6666667 , 1.        , 1.3333334 , 2.6666667 ],\n",
       "       [0.33333334, 0.6666667 , 1.        , 1.3333334 , 2.6666667 ],\n",
       "       [0.33333334, 0.6666667 , 1.        , 1.3333334 , 2.6666667 ],\n",
       "       [0.33333334, 0.6666667 , 1.        , 1.3333334 , 2.6666667 ],\n",
       "       [0.33333334, 0.6666667 , 1.        , 1.3333334 , 2.6666667 ],\n",
       "       [0.33333334, 0.6666667 , 1.        , 1.3333334 , 2.6666667 ],\n",
       "       [0.33333334, 0.6666667 , 1.        , 1.3333334 , 2.6666667 ],\n",
       "       [0.33333334, 0.6666667 , 1.        , 1.3333334 , 2.6666667 ],\n",
       "       [0.33333334, 0.6666667 , 1.        , 1.3333334 , 2.6666667 ],\n",
       "       [0.33333334, 0.6666667 , 1.        , 1.3333334 , 2.6666667 ],\n",
       "       [0.33333334, 0.6666667 , 1.        , 1.3333334 , 2.6666667 ],\n",
       "       [0.33333334, 0.6666667 , 1.        , 1.3333334 , 2.6666667 ],\n",
       "       [0.33333334, 0.6666667 , 1.        , 1.3333334 , 2.6666667 ],\n",
       "       [0.33333334, 0.6666667 , 1.        , 1.3333334 , 2.6666667 ],\n",
       "       [0.33333334, 0.6666667 , 1.        , 1.3333334 , 2.6666667 ],\n",
       "       [0.33333334, 0.6666667 , 1.        , 1.3333334 , 2.6666667 ],\n",
       "       [0.33333334, 0.6666667 , 1.        , 1.3333334 , 2.6666667 ],\n",
       "       [0.33333334, 0.6666667 , 1.        , 1.3333334 , 2.6666667 ],\n",
       "       [0.33333334, 0.6666667 , 1.        , 1.3333334 , 2.6666667 ],\n",
       "       [0.33333334, 0.6666667 , 1.        , 1.3333334 , 2.6666667 ],\n",
       "       [0.33333334, 0.6666667 , 1.        , 1.3333334 , 2.6666667 ],\n",
       "       [0.33333334, 0.6666667 , 1.        , 1.3333334 , 2.6666667 ],\n",
       "       [0.33333334, 0.6666667 , 1.        , 1.3333334 , 2.6666667 ],\n",
       "       [0.33333334, 0.6666667 , 1.        , 1.3333334 , 2.6666667 ],\n",
       "       [0.33333334, 0.6666667 , 1.        , 1.3333334 , 2.6666667 ],\n",
       "       [0.33333334, 0.6666667 , 1.        , 1.3333334 , 2.6666667 ],\n",
       "       [0.33333334, 0.6666667 , 1.        , 1.3333334 , 2.6666667 ],\n",
       "       [0.33333334, 0.6666667 , 1.        , 1.3333334 , 2.6666667 ],\n",
       "       [0.33333334, 0.6666667 , 1.        , 1.3333334 , 2.6666667 ],\n",
       "       [0.33333334, 0.6666667 , 1.        , 1.3333334 , 2.6666667 ],\n",
       "       [0.33333334, 0.6666667 , 1.        , 1.3333334 , 2.6666667 ],\n",
       "       [0.33333334, 0.6666667 , 1.        , 1.3333334 , 2.6666667 ],\n",
       "       [0.33333334, 0.6666667 , 1.        , 1.3333334 , 2.6666667 ],\n",
       "       [0.33333334, 0.6666667 , 1.        , 1.3333334 , 2.6666667 ],\n",
       "       [0.33333334, 0.6666667 , 1.        , 1.3333334 , 2.6666667 ],\n",
       "       [0.33333334, 0.6666667 , 1.        , 1.3333334 , 2.6666667 ],\n",
       "       [0.33333334, 0.6666667 , 1.        , 1.3333334 , 2.6666667 ]],\n",
       "      dtype=float32)>"
      ]
     },
     "execution_count": 74,
     "metadata": {},
     "output_type": "execute_result"
    }
   ],
   "source": [
    "n = l / 3\n",
    "n"
   ]
  },
  {
   "cell_type": "markdown",
   "metadata": {},
   "source": [
    "O) Use `tf.concat()` to take the list of two tensors below of shape (5,5) and (5,5) each and turn them into a final tensor of shape (10,5). Assign to `o`. Think carefully about the concation axis."
   ]
  },
  {
   "cell_type": "code",
   "execution_count": 75,
   "metadata": {},
   "outputs": [],
   "source": [
    "tensor_list = [tf.ones((5,5)), tf.ones((5,5))]"
   ]
  },
  {
   "cell_type": "code",
   "execution_count": 76,
   "metadata": {},
   "outputs": [
    {
     "data": {
      "text/plain": [
       "<tf.Tensor: shape=(10, 5), dtype=float32, numpy=\n",
       "array([[1., 1., 1., 1., 1.],\n",
       "       [1., 1., 1., 1., 1.],\n",
       "       [1., 1., 1., 1., 1.],\n",
       "       [1., 1., 1., 1., 1.],\n",
       "       [1., 1., 1., 1., 1.],\n",
       "       [1., 1., 1., 1., 1.],\n",
       "       [1., 1., 1., 1., 1.],\n",
       "       [1., 1., 1., 1., 1.],\n",
       "       [1., 1., 1., 1., 1.],\n",
       "       [1., 1., 1., 1., 1.]], dtype=float32)>"
      ]
     },
     "execution_count": 76,
     "metadata": {},
     "output_type": "execute_result"
    }
   ],
   "source": [
    "o = tf.concat(tensor_list, axis=0)\n",
    "o"
   ]
  },
  {
   "cell_type": "markdown",
   "metadata": {},
   "source": [
    "### Check your answers"
   ]
  },
  {
   "cell_type": "code",
   "execution_count": 77,
   "metadata": {},
   "outputs": [
    {
     "name": "stdout",
     "output_type": "stream",
     "text": [
      "\n",
      "\u001b[1m============================= test session starts ==============================\u001b[0m\n",
      "platform linux -- Python 3.10.6, pytest-7.1.3, pluggy-1.0.0 -- /home/baska/.pyenv/versions/3.10.6/envs/lewagon/bin/python\n",
      "cachedir: .pytest_cache\n",
      "rootdir: /home/baska/code/Svvcm/06-Deep-Learning/05-Transformers/data-tensor-trials/tests\n",
      "plugins: typeguard-2.13.3, anyio-3.6.2, asyncio-0.19.0\n",
      "asyncio: mode=strict\n",
      "\u001b[1mcollecting ... \u001b[0mcollected 15 items\n",
      "\n",
      "test_tensors.py::TestTensors::test_a \u001b[32mPASSED\u001b[0m\u001b[32m                              [  6%]\u001b[0m\n",
      "test_tensors.py::TestTensors::test_b \u001b[32mPASSED\u001b[0m\u001b[32m                              [ 13%]\u001b[0m\n",
      "test_tensors.py::TestTensors::test_c \u001b[32mPASSED\u001b[0m\u001b[32m                              [ 20%]\u001b[0m\n",
      "test_tensors.py::TestTensors::test_d_shape \u001b[32mPASSED\u001b[0m\u001b[32m                        [ 26%]\u001b[0m\n",
      "test_tensors.py::TestTensors::test_e \u001b[32mPASSED\u001b[0m\u001b[32m                              [ 33%]\u001b[0m\n",
      "test_tensors.py::TestTensors::test_f \u001b[32mPASSED\u001b[0m\u001b[32m                              [ 40%]\u001b[0m\n",
      "test_tensors.py::TestTensors::test_g \u001b[32mPASSED\u001b[0m\u001b[32m                              [ 46%]\u001b[0m\n",
      "test_tensors.py::TestTensors::test_h \u001b[32mPASSED\u001b[0m\u001b[32m                              [ 53%]\u001b[0m\n",
      "test_tensors.py::TestTensors::test_i \u001b[32mPASSED\u001b[0m\u001b[32m                              [ 60%]\u001b[0m\n",
      "test_tensors.py::TestTensors::test_j \u001b[32mPASSED\u001b[0m\u001b[32m                              [ 66%]\u001b[0m\n",
      "test_tensors.py::TestTensors::test_k \u001b[32mPASSED\u001b[0m\u001b[32m                              [ 73%]\u001b[0m\n",
      "test_tensors.py::TestTensors::test_l \u001b[32mPASSED\u001b[0m\u001b[32m                              [ 80%]\u001b[0m\n",
      "test_tensors.py::TestTensors::test_m \u001b[32mPASSED\u001b[0m\u001b[32m                              [ 86%]\u001b[0m\n",
      "test_tensors.py::TestTensors::test_n \u001b[31mFAILED\u001b[0m\u001b[31m                              [ 93%]\u001b[0m\n",
      "test_tensors.py::TestTensors::test_o_shape \u001b[32mPASSED\u001b[0m\u001b[31m                        [100%]\u001b[0m\n",
      "\n",
      "=================================== FAILURES ===================================\n",
      "\u001b[31m\u001b[1m______________________________ TestTensors.test_n ______________________________\u001b[0m\n",
      "\n",
      "self = <tests.test_tensors.TestTensors testMethod=test_n>\n",
      "\n",
      "    \u001b[94mdef\u001b[39;49;00m \u001b[92mtest_n\u001b[39;49;00m(\u001b[96mself\u001b[39;49;00m):\n",
      "        expected_k = tf.constant([[\u001b[94m1\u001b[39;49;00m, \u001b[94m2\u001b[39;49;00m, \u001b[94m3\u001b[39;49;00m, \u001b[94m4\u001b[39;49;00m, \u001b[94m8\u001b[39;49;00m]])\n",
      "        expected_l = tf.tile(expected_k, (\u001b[94m50\u001b[39;49;00m, \u001b[94m1\u001b[39;49;00m))\n",
      "        expected_n = expected_l /\u001b[94m3\u001b[39;49;00m\n",
      ">       \u001b[96mself\u001b[39;49;00m.assertTensorsEqual(\u001b[96mself\u001b[39;49;00m.result.n, expected_n)\n",
      "\n",
      "\u001b[1m\u001b[31mtest_tensors.py\u001b[0m:85: \n",
      "_ _ _ _ _ _ _ _ _ _ _ _ _ _ _ _ _ _ _ _ _ _ _ _ _ _ _ _ _ _ _ _ _ _ _ _ _ _ _ _ \n",
      "\n",
      "self = <tests.test_tensors.TestTensors testMethod=test_n>\n",
      "tensor1 = <tf.Tensor: shape=(50, 5), dtype=float32, numpy=\n",
      "array([[0.33333334, 0.6666667 , 1.        , 1.3333334 , 2.6666667 ],\n",
      "... , 1.3333334 , 2.6666667 ],\n",
      "       [0.33333334, 0.6666667 , 1.        , 1.3333334 , 2.6666667 ]],\n",
      "      dtype=float32)>\n",
      "tensor2 = <tf.Tensor: shape=(50, 5), dtype=float64, numpy=\n",
      "array([[0.33333333, 0.66666667, 1.        , 1.33333333, 2.66666667],\n",
      "...0.66666667, 1.        , 1.33333333, 2.66666667],\n",
      "       [0.33333333, 0.66666667, 1.        , 1.33333333, 2.66666667]])>\n",
      "\n",
      "    \u001b[94mdef\u001b[39;49;00m \u001b[92massertTensorsEqual\u001b[39;49;00m(\u001b[96mself\u001b[39;49;00m, tensor1, tensor2):\n",
      ">       np.testing.assert_equal(tensor1.numpy(), tensor2.numpy())\n",
      "\u001b[1m\u001b[31mE       AssertionError: \u001b[0m\n",
      "\u001b[1m\u001b[31mE       Arrays are not equal\u001b[0m\n",
      "\u001b[1m\u001b[31mE       \u001b[0m\n",
      "\u001b[1m\u001b[31mE       Mismatched elements: 200 / 250 (80%)\u001b[0m\n",
      "\u001b[1m\u001b[31mE       Max absolute difference: 7.94728598e-08\u001b[0m\n",
      "\u001b[1m\u001b[31mE       Max relative difference: 2.98023224e-08\u001b[0m\n",
      "\u001b[1m\u001b[31mE        x: array([[0.333333, 0.666667, 1.      , 1.333333, 2.666667],\u001b[0m\n",
      "\u001b[1m\u001b[31mE              [0.333333, 0.666667, 1.      , 1.333333, 2.666667],\u001b[0m\n",
      "\u001b[1m\u001b[31mE              [0.333333, 0.666667, 1.      , 1.333333, 2.666667],...\u001b[0m\n",
      "\u001b[1m\u001b[31mE        y: array([[0.333333, 0.666667, 1.      , 1.333333, 2.666667],\u001b[0m\n",
      "\u001b[1m\u001b[31mE              [0.333333, 0.666667, 1.      , 1.333333, 2.666667],\u001b[0m\n",
      "\u001b[1m\u001b[31mE              [0.333333, 0.666667, 1.      , 1.333333, 2.666667],...\u001b[0m\n",
      "\n",
      "\u001b[1m\u001b[31mtest_tensors.py\u001b[0m:8: AssertionError\n",
      "=========================== short test summary info ============================\n",
      "FAILED test_tensors.py::TestTensors::test_n - AssertionError: \n",
      "\u001b[31m========================= \u001b[31m\u001b[1m1 failed\u001b[0m, \u001b[32m14 passed\u001b[0m\u001b[31m in 5.93s\u001b[0m\u001b[31m =========================\u001b[0m\n",
      "\n",
      "\n",
      "💯 You can commit your code:\n",
      "\n",
      "\u001b[1;32mgit\u001b[39m add tests/tensors.pickle\n",
      "\n",
      "\u001b[32mgit\u001b[39m commit -m \u001b[33m'Completed tensors step'\u001b[39m\n",
      "\n",
      "\u001b[32mgit\u001b[39m push origin master\n",
      "\n"
     ]
    }
   ],
   "source": [
    "from nbresult import ChallengeResult\n",
    "\n",
    "result = ChallengeResult('tensors',\n",
    "                            a = a,\n",
    "                            b = b,\n",
    "                            c = c,\n",
    "                            d_shape = d.shape,\n",
    "                            e = e,\n",
    "                            f = f,\n",
    "                            g = g,\n",
    "                            h = h,\n",
    "                            i = i,\n",
    "                            j = j,\n",
    "                            k = k,\n",
    "                            l = l,\n",
    "                            m = m,\n",
    "                            n = n,\n",
    "                            o_shape = o.shape\n",
    ")\n",
    "\n",
    "result.write()\n",
    "print(result.check())"
   ]
  },
  {
   "cell_type": "markdown",
   "metadata": {},
   "source": [
    "### Great work 🔥\n",
    "\n",
    "Now it's time to get stuck into some modelling!"
   ]
  }
 ],
 "metadata": {
  "kernelspec": {
   "display_name": "lewagon",
   "language": "python",
   "name": "python3"
  },
  "language_info": {
   "codemirror_mode": {
    "name": "ipython",
    "version": 3
   },
   "file_extension": ".py",
   "mimetype": "text/x-python",
   "name": "python",
   "nbconvert_exporter": "python",
   "pygments_lexer": "ipython3",
   "version": "3.10.6"
  }
 },
 "nbformat": 4,
 "nbformat_minor": 5
}
